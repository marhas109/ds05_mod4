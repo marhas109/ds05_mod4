{
 "cells": [
  {
   "cell_type": "markdown",
   "id": "0ebb3b7e-222e-45fc-b9c1-8b0fb541c4a8",
   "metadata": {},
   "source": [
    "Imagine you've just joined the analytics team at a growing software company. Your customer support manager comes to you with a question: \"We've been experimenting with offering support through both chat and email. The chat system is more expensive, so we need to know if it's actually performing better in terms of customer satisfaction.\"\n",
    "\n",
    "She shares the following data from the past month:\n",
    "**Chat Support**: 280 satisfied customers out of 320 total responses\n",
    "**Email Support**: 410 satisfied customers out of 500 total responses\n",
    "\n"
   ]
  },
  {
   "cell_type": "code",
   "execution_count": null,
   "id": "63bf1b55-d609-4911-adc5-cd863046da1f",
   "metadata": {},
   "outputs": [],
   "source": []
  },
  {
   "cell_type": "code",
   "execution_count": 1,
   "id": "461bd767-66f4-4c0f-99da-645c3963d01f",
   "metadata": {},
   "outputs": [
    {
     "name": "stdout",
     "output_type": "stream",
     "text": [
      "Chat conditions:\n",
      "np = 280.0\n",
      "n(1-p) = 40.0\n",
      "Conditions met: True\n",
      "\n",
      "Email conditions:\n",
      "np = 410.0\n",
      "n(1-p) = 90.0\n",
      "Conditions met: True\n"
     ]
    }
   ],
   "source": [
    "# Calculate sample proportions\n",
    "chat_prop = 280/320  # ≈ 0.875 or 87.5%\n",
    "email_prop = 410/500  # ≈ 0.82 or 82%\n",
    "\n",
    "# Check success-failure condition for both groups\n",
    "def check_conditions(successes, n):\n",
    "    failures = n - successes\n",
    "    return {\n",
    "        'np': n * (successes/n),\n",
    "        'n(1-p)': n * (1 - successes/n),\n",
    "        'conditions_met': (n * (successes/n) >= 10) and (n * (1 - successes/n) >= 10)\n",
    "    }\n",
    "\n",
    "chat_check = check_conditions(280, 320)\n",
    "email_check = check_conditions(410, 500)\n",
    "\n",
    "print(\"Chat conditions:\")\n",
    "print(f\"np = {chat_check['np']:.1f}\")\n",
    "print(f\"n(1-p) = {chat_check['n(1-p)']:.1f}\")\n",
    "print(f\"Conditions met: {chat_check['conditions_met']}\\n\")\n",
    "\n",
    "print(\"Email conditions:\")\n",
    "print(f\"np = {email_check['np']:.1f}\")\n",
    "print(f\"n(1-p) = {email_check['n(1-p)']:.1f}\")\n",
    "print(f\"Conditions met: {email_check['conditions_met']}\")"
   ]
  },
  {
   "cell_type": "markdown",
   "id": "00752c11-6184-4f2c-add5-80474f160ed6",
   "metadata": {},
   "source": [
    "**Hypothesis Test**"
   ]
  },
  {
   "cell_type": "code",
   "execution_count": 5,
   "id": "09dda99b-6a32-4edf-a003-4251501ab858",
   "metadata": {},
   "outputs": [
    {
     "name": "stdout",
     "output_type": "stream",
     "text": [
      "\n",
      "Z-statistic: 2.1035\n",
      "P-value: 0.0354\n",
      "Effect size: 0.0550\n"
     ]
    }
   ],
   "source": [
    "import numpy as np\n",
    "from statsmodels.stats.proportion import proportions_ztest\n",
    "\n",
    "# Prepare data for scipy.stats.proportions_ztest\n",
    "count = np.array([280, 410])  # successes for chat and email\n",
    "nobs = np.array([320, 500])   # total observations for each group\n",
    "\n",
    "# Perform the test\n",
    "stat, pvalue = proportions_ztest(count, nobs)\n",
    "\n",
    "print(f\"\\nZ-statistic: {stat:.4f}\")\n",
    "print(f\"P-value: {pvalue:.4f}\")\n",
    "\n",
    "# Calculate the effect size (difference in proportions)\n",
    "effect_size = (280/320) - (410/500)\n",
    "print(f\"Effect size: {effect_size:.4f}\")"
   ]
  },
  {
   "cell_type": "markdown",
   "id": "8f2931aa-a95b-40f5-b97f-3c56072f02e9",
   "metadata": {},
   "source": [
    "**Confidence Interval**"
   ]
  },
  {
   "cell_type": "code",
   "execution_count": 7,
   "id": "9e7889ab-33d2-4099-a693-5d1952f2aa75",
   "metadata": {},
   "outputs": [
    {
     "name": "stdout",
     "output_type": "stream",
     "text": [
      "\n",
      "95% Confidence Interval: (0.0038, 0.1062)\n"
     ]
    }
   ],
   "source": [
    "import scipy.stats as stats\n",
    "\n",
    "# Calculate pooled proportion\n",
    "p_pooled = (280 + 410) / (320 + 500)\n",
    "\n",
    "# Calculate standard error\n",
    "se = np.sqrt(p_pooled * (1 - p_pooled) * (1/320 + 1/500))\n",
    "\n",
    "# Calculate 95% confidence interval\n",
    "z_critical = stats.norm.ppf(0.975)  # for 95% CI\n",
    "margin_error = z_critical * se\n",
    "ci_lower = effect_size - margin_error\n",
    "ci_upper = effect_size + margin_error\n",
    "\n",
    "print(f\"\\n95% Confidence Interval: ({ci_lower:.4f}, {ci_upper:.4f})\")"
   ]
  },
  {
   "cell_type": "markdown",
   "id": "59198b44-9c0a-4594-b88f-b4c2accdc686",
   "metadata": {},
   "source": [
    "Sample presentation of results\n",
    "\n",
    "\"I've analyzed the satisfaction rates between our chat and email support channels. Here's what I found:\n",
    "Chat support had a satisfaction rate of 87.5% (28010 out of 320 responses), while email support had a satisfaction rate of 82% (410 out of 500 responses). This represents a 5.5 percentage point difference in favor of chat support.\n",
    "\n",
    "Our statistical analysis shows this difference is statistically significant (p = 0.037), meaning it's unlikely this difference occurred by chance. We can be 95% confident that chat support's true satisfaction rate is between 0.3 and 10.7 percentage points higher than email support.\n",
    "\n",
    "**Business Implications:**\n",
    "\n",
    "The data supports that chat provides better customer satisfaction.\n",
    "The minimum improvement we're confident about (0.3 percentage points) might be too small to justify chat's higher cost\n",
    "However, the potential improvement could be as high as 10.7 percentage points, which might make the investment worthwhile.\n",
    "\n",
    "**Recommendations:**\n",
    "\n",
    "Continue collecting data to narrow down the true difference.\n",
    "Consider analyzing the cost per satisfied customer for each channel.\n",
    "Look for patterns in types of issues where chat particularly excels\""
   ]
  },
  {
   "cell_type": "code",
   "execution_count": null,
   "id": "32d7d863-cdfc-4295-ad51-a077e3c18447",
   "metadata": {},
   "outputs": [],
   "source": []
  }
 ],
 "metadata": {
  "kernelspec": {
   "display_name": "Python (win_c0c1)",
   "language": "python",
   "name": "win_c0c1"
  },
  "language_info": {
   "codemirror_mode": {
    "name": "ipython",
    "version": 3
   },
   "file_extension": ".py",
   "mimetype": "text/x-python",
   "name": "python",
   "nbconvert_exporter": "python",
   "pygments_lexer": "ipython3",
   "version": "3.12.4"
  }
 },
 "nbformat": 4,
 "nbformat_minor": 5
}
