{
 "cells": [
  {
   "cell_type": "markdown",
   "metadata": {},
   "source": [
    "# Statistical Inference for Proportions Lab:\n",
    "\n",
    "## Customer Retention Analysis at DataFlow\n",
    "\n",
    "You've recently joined DataFlow, a Software-as-a-Service (SaaS) company that provides data visualization tools. The customer success team has been piloting a new onboarding program to improve customer retention. Your task is to analyze whether the new program shows statistically significant improvement over the traditional approach.\n",
    "\n",
    "Your task is to:\n",
    "- Estimate the retention rate for customers who went through the traditional onboarding\n",
    "- Estimate the retention rate for customers who went through the new onboarding\n",
    "- Determine if the new onboarding program shows statistically significant improvement\n",
    "\n",
    "\n",
    "## Data Overview\n",
    "Here's what we know about our onboarding programs:\n",
    "\n",
    "- Traditional Onboarding: 180 retained customers out of 240 participants\n",
    "- New Onboarding: 210 retained customers out of 260 participants\n",
    "- A customer is considered \"retained\" if they remain subscribed after 3 months\n",
    "\n",
    "First, let's import the libraries we'll need for our analysis:"
   ]
  },
  {
   "cell_type": "code",
   "execution_count": 1,
   "metadata": {},
   "outputs": [],
   "source": [
    "# CodeGrade step0\n",
    "# Run this cell without changes\n",
    "# Import required libraries\n",
    "import numpy as np\n",
    "from scipy import stats\n",
    "import matplotlib.pyplot as plt"
   ]
  },
  {
   "cell_type": "markdown",
   "metadata": {},
   "source": [
    "### Step 1: Setup\n",
    "\n",
    "Given the known values above let's store those as variables to use in our statisitcal calculations and functions."
   ]
  },
  {
   "cell_type": "code",
   "execution_count": null,
   "metadata": {},
   "outputs": [],
   "source": [
    "# CodeGrade step1\n",
    "# Traditional onboarding data\n",
    "traditional_retained = None\n",
    "traditional_total = None\n",
    "\n",
    "# New onboarding data\n",
    "new_retained = None\n",
    "new_total = None\n",
    "\n",
    "# Calculate basic retention rates\n",
    "traditional_rate = None\n",
    "new_rate = None"
   ]
  },
  {
   "cell_type": "code",
   "execution_count": null,
   "metadata": {},
   "outputs": [],
   "source": [
    "# Run this cell without changes to display rates\n",
    "print(f\"Traditional retention rate: {traditional_rate:.2%}\")\n",
    "print(f\"New retention rate: {new_rate:.2%}\")"
   ]
  },
  {
   "cell_type": "markdown",
   "metadata": {},
   "source": [
    "### Step 2: Confidence Interval Traditional\n",
    "\n",
    "In this section, we'll calculate the 95% confidence interval for the traditional onboarding retention rate. This will help us understand the range of plausible values for the true retention rate. Remember you can use `np.sqrt()` for square roots."
   ]
  },
  {
   "cell_type": "code",
   "execution_count": 1,
   "metadata": {},
   "outputs": [],
   "source": [
    "# CodeGrade step2\n",
    "# Calculate the standard error\n",
    "traditional_std_error = None\n",
    "\n",
    "# Calculate the margin of error (using z=1.96 for 95% confidence)\n",
    "traditional_margin_of_error = None\n",
    "\n",
    "#Calculate the confidence interval bounds\n",
    "traditional_ci_lower = None\n",
    "traditional_ci_upper = None"
   ]
  },
  {
   "cell_type": "code",
   "execution_count": 2,
   "metadata": {},
   "outputs": [],
   "source": [
    "# Run this code without changes to display CI\n",
    "print(f\"95% Confidence Interval for traditional retention rate: ({traditional_ci_lower:.2%}, {traditional_ci_upper:.2%})\")"
   ]
  },
  {
   "cell_type": "markdown",
   "metadata": {},
   "source": [
    "### Step 3: Confidence Interval New\n",
    "\n",
    "In this section, we'll calculate the 95% confidence interval for the new onboarding retention rate. By comparing to the traditional approach CI, we can get a primlinary idea for if there is a difference."
   ]
  },
  {
   "cell_type": "code",
   "execution_count": null,
   "metadata": {},
   "outputs": [],
   "source": [
    "# CodeGrade step3\n",
    "# Calculate the standard error\n",
    "new_std_error = None\n",
    "\n",
    "# Calculate the margin of error (using z=1.96 for 95% confidence)\n",
    "new_margin_of_error = None\n",
    "\n",
    "#Calculate the confidence interval bounds\n",
    "new_ci_lower = None\n",
    "new_ci_upper = None"
   ]
  },
  {
   "cell_type": "code",
   "execution_count": null,
   "metadata": {},
   "outputs": [],
   "source": [
    "# Run this code without changes to display CI\n",
    "print(f\"95% Confidence Interval for new retention rate: ({new_ci_lower:.2%}, {new_ci_upper:.2%})\")"
   ]
  },
  {
   "cell_type": "markdown",
   "metadata": {},
   "source": [
    "### Step 4: Quick Comparison\n",
    "\n",
    "Compare both of the confidence intervals for the traditional and new onboarding approach. Based on the visual of the intervals below would you expect to see a significant difference? Assign either `True` or `False` to the variable below."
   ]
  },
  {
   "cell_type": "code",
   "execution_count": null,
   "metadata": {},
   "outputs": [],
   "source": [
    "# Run this cell without changes to show visual comparison\n",
    "# Create plot with grid\n",
    "plt.figure(figsize=(4, 6))\n",
    "# Add grid before plotting data (so data appears on top)\n",
    "plt.grid(True, linestyle='--', alpha=0.7)\n",
    "# Plot error bars for both programs\n",
    "programs = ['Traditional', 'New']\n",
    "rates = [traditional_rate, new_rate]\n",
    "errors = [traditional_margin_of_error, new_margin_of_error]\n",
    "plt.errorbar(programs, rates, yerr=errors, fmt='o', capsize=5)\n",
    "plt.ylabel('Retention Rate')\n",
    "plt.title('Retention Rates with 95% CIs')\n",
    "# Format y-axis as percentages\n",
    "plt.gca().yaxis.set_major_formatter(plt.FuncFormatter(lambda y, _: '{:.0%}'.format(y)))\n",
    "# Focus y-axis on relevant range\n",
    "plt.ylim(0.6, 0.9)\n",
    "# Reduce margins\n",
    "plt.tight_layout()\n",
    "plt.show()"
   ]
  },
  {
   "cell_type": "code",
   "execution_count": null,
   "metadata": {},
   "outputs": [],
   "source": [
    "# CodeGrade step4\n",
    "sig_diff_exp = None"
   ]
  },
  {
   "cell_type": "markdown",
   "metadata": {},
   "source": [
    "### Step 5: Hypothesis Testing\n",
    "Now we'll determine if there's a statistically significant difference between the two onboarding approaches using a two-proportion z-test.\n",
    "\n",
    "Our hypotheses are:\n",
    "\n",
    "- H₀ (Null Hypothesis): There is no difference in retention rates between the traditional and new onboarding programs\n",
    "- H₁ (Alternative Hypothesis): There is a difference in retention rates between the programs\n",
    "\n",
    "Statsmodels documentation for one and two sample proportion [z-test](https://www.statsmodels.org/stable/generated/statsmodels.stats.proportion.proportions_ztest.html)"
   ]
  },
  {
   "cell_type": "code",
   "execution_count": null,
   "metadata": {},
   "outputs": [],
   "source": [
    "# CodeGrade step5\n",
    "# Import test function from statsmodels\n",
    "None\n",
    "\n",
    "# Setup Data as numpy arrays\n",
    "counts = None\n",
    "nobs = None\n",
    "\n",
    "# Implement the test\n",
    "stat, pvalue = None"
   ]
  },
  {
   "cell_type": "code",
   "execution_count": null,
   "metadata": {},
   "outputs": [],
   "source": [
    "# Run this cell without changes to display results\n",
    "print(f\"\\nZ-statistic: {stat:.4f}\")\n",
    "print(f\"P-value: {pvalue:.4f}\")"
   ]
  },
  {
   "cell_type": "markdown",
   "metadata": {},
   "source": [
    "### Step 6: Business Impact Analysis\n",
    "Now let's analyze what these results mean for the business. We'll calculate some key metrics that would be meaningful to stakeholders."
   ]
  },
  {
   "cell_type": "code",
   "execution_count": null,
   "metadata": {},
   "outputs": [],
   "source": [
    "# CodeGrade step6\n",
    "# Calculate the absolute difference in retention rates\n",
    "retention_rate_difference = None\n",
    "\n",
    "# Calculate how many additional customers we would retain per 1000 customers\n",
    "additional_retained_per_1000 = None\n",
    "\n",
    "# If each customer generates $100 monthly revenue, calculate the monthly revenue impact per 1000 customers\n",
    "monthly_revenue_per_customer = 100  # dollars\n",
    "monthly_revenue_impact_per_1000 = None"
   ]
  },
  {
   "cell_type": "code",
   "execution_count": null,
   "metadata": {},
   "outputs": [],
   "source": [
    "# Run this cell without changes to display results\n",
    "print(f\"Absolute improvement in retention: {retention_rate_difference:.2%}\")\n",
    "print(f\"Additional customers retained per 1000: {additional_retained_per_1000:.0f}\")\n",
    "print(f\"Monthly revenue impact per 1000 customers: ${monthly_revenue_impact_per_1000:,.2f}\")"
   ]
  }
 ],
 "metadata": {
  "kernelspec": {
   "display_name": "Python (win_c0c1)",
   "language": "python",
   "name": "win_c0c1"
  },
  "language_info": {
   "codemirror_mode": {
    "name": "ipython",
    "version": 3
   },
   "file_extension": ".py",
   "mimetype": "text/x-python",
   "name": "python",
   "nbconvert_exporter": "python",
   "pygments_lexer": "ipython3",
   "version": "3.12.4"
  }
 },
 "nbformat": 4,
 "nbformat_minor": 4
}
